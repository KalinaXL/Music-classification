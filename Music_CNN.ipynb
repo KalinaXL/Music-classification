{
  "nbformat": 4,
  "nbformat_minor": 0,
  "metadata": {
    "colab": {
      "name": "Music.ipynb",
      "provenance": [],
      "authorship_tag": "ABX9TyNgyB9UO4ZfmH9bQ5Ki0PV+",
      "include_colab_link": true
    },
    "kernelspec": {
      "name": "python3",
      "display_name": "Python 3"
    },
    "accelerator": "GPU",
    "widgets": {
      "application/vnd.jupyter.widget-state+json": {
        "541d4ab40d084372a3175dc8e99f65ff": {
          "model_module": "@jupyter-widgets/controls",
          "model_name": "HBoxModel",
          "state": {
            "_view_name": "HBoxView",
            "_dom_classes": [],
            "_model_name": "HBoxModel",
            "_view_module": "@jupyter-widgets/controls",
            "_model_module_version": "1.5.0",
            "_view_count": null,
            "_view_module_version": "1.5.0",
            "box_style": "",
            "layout": "IPY_MODEL_3cd0f84bc6e24059ab7a33158bc8046f",
            "_model_module": "@jupyter-widgets/controls",
            "children": [
              "IPY_MODEL_e4198a985c37443c877d593a20263da7",
              "IPY_MODEL_5a6d33a1f5504d1998be9e3c396c73d5"
            ]
          }
        },
        "3cd0f84bc6e24059ab7a33158bc8046f": {
          "model_module": "@jupyter-widgets/base",
          "model_name": "LayoutModel",
          "state": {
            "_view_name": "LayoutView",
            "grid_template_rows": null,
            "right": null,
            "justify_content": null,
            "_view_module": "@jupyter-widgets/base",
            "overflow": null,
            "_model_module_version": "1.2.0",
            "_view_count": null,
            "flex_flow": null,
            "width": null,
            "min_width": null,
            "border": null,
            "align_items": null,
            "bottom": null,
            "_model_module": "@jupyter-widgets/base",
            "top": null,
            "grid_column": null,
            "overflow_y": null,
            "overflow_x": null,
            "grid_auto_flow": null,
            "grid_area": null,
            "grid_template_columns": null,
            "flex": null,
            "_model_name": "LayoutModel",
            "justify_items": null,
            "grid_row": null,
            "max_height": null,
            "align_content": null,
            "visibility": null,
            "align_self": null,
            "height": null,
            "min_height": null,
            "padding": null,
            "grid_auto_rows": null,
            "grid_gap": null,
            "max_width": null,
            "order": null,
            "_view_module_version": "1.2.0",
            "grid_template_areas": null,
            "object_position": null,
            "object_fit": null,
            "grid_auto_columns": null,
            "margin": null,
            "display": null,
            "left": null
          }
        },
        "e4198a985c37443c877d593a20263da7": {
          "model_module": "@jupyter-widgets/controls",
          "model_name": "FloatProgressModel",
          "state": {
            "_view_name": "ProgressView",
            "style": "IPY_MODEL_9b4c7d32c6134c1aa5d656c120f9a40e",
            "_dom_classes": [],
            "description": "100%",
            "_model_name": "FloatProgressModel",
            "bar_style": "success",
            "max": 800,
            "_view_module": "@jupyter-widgets/controls",
            "_model_module_version": "1.5.0",
            "value": 800,
            "_view_count": null,
            "_view_module_version": "1.5.0",
            "orientation": "horizontal",
            "min": 0,
            "description_tooltip": null,
            "_model_module": "@jupyter-widgets/controls",
            "layout": "IPY_MODEL_d52ec80193054482ac300988623faf4a"
          }
        },
        "5a6d33a1f5504d1998be9e3c396c73d5": {
          "model_module": "@jupyter-widgets/controls",
          "model_name": "HTMLModel",
          "state": {
            "_view_name": "HTMLView",
            "style": "IPY_MODEL_852d05d372b6491d89561c845ab1c7f3",
            "_dom_classes": [],
            "description": "",
            "_model_name": "HTMLModel",
            "placeholder": "​",
            "_view_module": "@jupyter-widgets/controls",
            "_model_module_version": "1.5.0",
            "value": " 800/800 [06:43&lt;00:00,  1.98it/s]",
            "_view_count": null,
            "_view_module_version": "1.5.0",
            "description_tooltip": null,
            "_model_module": "@jupyter-widgets/controls",
            "layout": "IPY_MODEL_ac01c0207ee14f89a1fc06b8325759a7"
          }
        },
        "9b4c7d32c6134c1aa5d656c120f9a40e": {
          "model_module": "@jupyter-widgets/controls",
          "model_name": "ProgressStyleModel",
          "state": {
            "_view_name": "StyleView",
            "_model_name": "ProgressStyleModel",
            "description_width": "initial",
            "_view_module": "@jupyter-widgets/base",
            "_model_module_version": "1.5.0",
            "_view_count": null,
            "_view_module_version": "1.2.0",
            "bar_color": null,
            "_model_module": "@jupyter-widgets/controls"
          }
        },
        "d52ec80193054482ac300988623faf4a": {
          "model_module": "@jupyter-widgets/base",
          "model_name": "LayoutModel",
          "state": {
            "_view_name": "LayoutView",
            "grid_template_rows": null,
            "right": null,
            "justify_content": null,
            "_view_module": "@jupyter-widgets/base",
            "overflow": null,
            "_model_module_version": "1.2.0",
            "_view_count": null,
            "flex_flow": null,
            "width": null,
            "min_width": null,
            "border": null,
            "align_items": null,
            "bottom": null,
            "_model_module": "@jupyter-widgets/base",
            "top": null,
            "grid_column": null,
            "overflow_y": null,
            "overflow_x": null,
            "grid_auto_flow": null,
            "grid_area": null,
            "grid_template_columns": null,
            "flex": null,
            "_model_name": "LayoutModel",
            "justify_items": null,
            "grid_row": null,
            "max_height": null,
            "align_content": null,
            "visibility": null,
            "align_self": null,
            "height": null,
            "min_height": null,
            "padding": null,
            "grid_auto_rows": null,
            "grid_gap": null,
            "max_width": null,
            "order": null,
            "_view_module_version": "1.2.0",
            "grid_template_areas": null,
            "object_position": null,
            "object_fit": null,
            "grid_auto_columns": null,
            "margin": null,
            "display": null,
            "left": null
          }
        },
        "852d05d372b6491d89561c845ab1c7f3": {
          "model_module": "@jupyter-widgets/controls",
          "model_name": "DescriptionStyleModel",
          "state": {
            "_view_name": "StyleView",
            "_model_name": "DescriptionStyleModel",
            "description_width": "",
            "_view_module": "@jupyter-widgets/base",
            "_model_module_version": "1.5.0",
            "_view_count": null,
            "_view_module_version": "1.2.0",
            "_model_module": "@jupyter-widgets/controls"
          }
        },
        "ac01c0207ee14f89a1fc06b8325759a7": {
          "model_module": "@jupyter-widgets/base",
          "model_name": "LayoutModel",
          "state": {
            "_view_name": "LayoutView",
            "grid_template_rows": null,
            "right": null,
            "justify_content": null,
            "_view_module": "@jupyter-widgets/base",
            "overflow": null,
            "_model_module_version": "1.2.0",
            "_view_count": null,
            "flex_flow": null,
            "width": null,
            "min_width": null,
            "border": null,
            "align_items": null,
            "bottom": null,
            "_model_module": "@jupyter-widgets/base",
            "top": null,
            "grid_column": null,
            "overflow_y": null,
            "overflow_x": null,
            "grid_auto_flow": null,
            "grid_area": null,
            "grid_template_columns": null,
            "flex": null,
            "_model_name": "LayoutModel",
            "justify_items": null,
            "grid_row": null,
            "max_height": null,
            "align_content": null,
            "visibility": null,
            "align_self": null,
            "height": null,
            "min_height": null,
            "padding": null,
            "grid_auto_rows": null,
            "grid_gap": null,
            "max_width": null,
            "order": null,
            "_view_module_version": "1.2.0",
            "grid_template_areas": null,
            "object_position": null,
            "object_fit": null,
            "grid_auto_columns": null,
            "margin": null,
            "display": null,
            "left": null
          }
        },
        "326b2350fbd147aa9cd08fd0b7ef22fd": {
          "model_module": "@jupyter-widgets/controls",
          "model_name": "HBoxModel",
          "state": {
            "_view_name": "HBoxView",
            "_dom_classes": [],
            "_model_name": "HBoxModel",
            "_view_module": "@jupyter-widgets/controls",
            "_model_module_version": "1.5.0",
            "_view_count": null,
            "_view_module_version": "1.5.0",
            "box_style": "",
            "layout": "IPY_MODEL_526fddffd43a46f78030cdaec41096c3",
            "_model_module": "@jupyter-widgets/controls",
            "children": [
              "IPY_MODEL_49fafeab1b6f4ed8b74a569152480014",
              "IPY_MODEL_d2c6bedc512a41d2aeaf03d8710b4913"
            ]
          }
        },
        "526fddffd43a46f78030cdaec41096c3": {
          "model_module": "@jupyter-widgets/base",
          "model_name": "LayoutModel",
          "state": {
            "_view_name": "LayoutView",
            "grid_template_rows": null,
            "right": null,
            "justify_content": null,
            "_view_module": "@jupyter-widgets/base",
            "overflow": null,
            "_model_module_version": "1.2.0",
            "_view_count": null,
            "flex_flow": null,
            "width": null,
            "min_width": null,
            "border": null,
            "align_items": null,
            "bottom": null,
            "_model_module": "@jupyter-widgets/base",
            "top": null,
            "grid_column": null,
            "overflow_y": null,
            "overflow_x": null,
            "grid_auto_flow": null,
            "grid_area": null,
            "grid_template_columns": null,
            "flex": null,
            "_model_name": "LayoutModel",
            "justify_items": null,
            "grid_row": null,
            "max_height": null,
            "align_content": null,
            "visibility": null,
            "align_self": null,
            "height": null,
            "min_height": null,
            "padding": null,
            "grid_auto_rows": null,
            "grid_gap": null,
            "max_width": null,
            "order": null,
            "_view_module_version": "1.2.0",
            "grid_template_areas": null,
            "object_position": null,
            "object_fit": null,
            "grid_auto_columns": null,
            "margin": null,
            "display": null,
            "left": null
          }
        },
        "49fafeab1b6f4ed8b74a569152480014": {
          "model_module": "@jupyter-widgets/controls",
          "model_name": "FloatProgressModel",
          "state": {
            "_view_name": "ProgressView",
            "style": "IPY_MODEL_2f453cfb3dcb427cbadc1b6963fa4938",
            "_dom_classes": [],
            "description": "100%",
            "_model_name": "FloatProgressModel",
            "bar_style": "success",
            "max": 800,
            "_view_module": "@jupyter-widgets/controls",
            "_model_module_version": "1.5.0",
            "value": 800,
            "_view_count": null,
            "_view_module_version": "1.5.0",
            "orientation": "horizontal",
            "min": 0,
            "description_tooltip": null,
            "_model_module": "@jupyter-widgets/controls",
            "layout": "IPY_MODEL_4d16560d278b4753ba1409ab0c5a227c"
          }
        },
        "d2c6bedc512a41d2aeaf03d8710b4913": {
          "model_module": "@jupyter-widgets/controls",
          "model_name": "HTMLModel",
          "state": {
            "_view_name": "HTMLView",
            "style": "IPY_MODEL_2f672c2ba2b8471ea886c89bd11d81ea",
            "_dom_classes": [],
            "description": "",
            "_model_name": "HTMLModel",
            "placeholder": "​",
            "_view_module": "@jupyter-widgets/controls",
            "_model_module_version": "1.5.0",
            "value": " 800/800 [00:27&lt;00:00, 29.08it/s]",
            "_view_count": null,
            "_view_module_version": "1.5.0",
            "description_tooltip": null,
            "_model_module": "@jupyter-widgets/controls",
            "layout": "IPY_MODEL_66cc7ff9bdda46968bcaa9ff110ace9e"
          }
        },
        "2f453cfb3dcb427cbadc1b6963fa4938": {
          "model_module": "@jupyter-widgets/controls",
          "model_name": "ProgressStyleModel",
          "state": {
            "_view_name": "StyleView",
            "_model_name": "ProgressStyleModel",
            "description_width": "initial",
            "_view_module": "@jupyter-widgets/base",
            "_model_module_version": "1.5.0",
            "_view_count": null,
            "_view_module_version": "1.2.0",
            "bar_color": null,
            "_model_module": "@jupyter-widgets/controls"
          }
        },
        "4d16560d278b4753ba1409ab0c5a227c": {
          "model_module": "@jupyter-widgets/base",
          "model_name": "LayoutModel",
          "state": {
            "_view_name": "LayoutView",
            "grid_template_rows": null,
            "right": null,
            "justify_content": null,
            "_view_module": "@jupyter-widgets/base",
            "overflow": null,
            "_model_module_version": "1.2.0",
            "_view_count": null,
            "flex_flow": null,
            "width": null,
            "min_width": null,
            "border": null,
            "align_items": null,
            "bottom": null,
            "_model_module": "@jupyter-widgets/base",
            "top": null,
            "grid_column": null,
            "overflow_y": null,
            "overflow_x": null,
            "grid_auto_flow": null,
            "grid_area": null,
            "grid_template_columns": null,
            "flex": null,
            "_model_name": "LayoutModel",
            "justify_items": null,
            "grid_row": null,
            "max_height": null,
            "align_content": null,
            "visibility": null,
            "align_self": null,
            "height": null,
            "min_height": null,
            "padding": null,
            "grid_auto_rows": null,
            "grid_gap": null,
            "max_width": null,
            "order": null,
            "_view_module_version": "1.2.0",
            "grid_template_areas": null,
            "object_position": null,
            "object_fit": null,
            "grid_auto_columns": null,
            "margin": null,
            "display": null,
            "left": null
          }
        },
        "2f672c2ba2b8471ea886c89bd11d81ea": {
          "model_module": "@jupyter-widgets/controls",
          "model_name": "DescriptionStyleModel",
          "state": {
            "_view_name": "StyleView",
            "_model_name": "DescriptionStyleModel",
            "description_width": "",
            "_view_module": "@jupyter-widgets/base",
            "_model_module_version": "1.5.0",
            "_view_count": null,
            "_view_module_version": "1.2.0",
            "_model_module": "@jupyter-widgets/controls"
          }
        },
        "66cc7ff9bdda46968bcaa9ff110ace9e": {
          "model_module": "@jupyter-widgets/base",
          "model_name": "LayoutModel",
          "state": {
            "_view_name": "LayoutView",
            "grid_template_rows": null,
            "right": null,
            "justify_content": null,
            "_view_module": "@jupyter-widgets/base",
            "overflow": null,
            "_model_module_version": "1.2.0",
            "_view_count": null,
            "flex_flow": null,
            "width": null,
            "min_width": null,
            "border": null,
            "align_items": null,
            "bottom": null,
            "_model_module": "@jupyter-widgets/base",
            "top": null,
            "grid_column": null,
            "overflow_y": null,
            "overflow_x": null,
            "grid_auto_flow": null,
            "grid_area": null,
            "grid_template_columns": null,
            "flex": null,
            "_model_name": "LayoutModel",
            "justify_items": null,
            "grid_row": null,
            "max_height": null,
            "align_content": null,
            "visibility": null,
            "align_self": null,
            "height": null,
            "min_height": null,
            "padding": null,
            "grid_auto_rows": null,
            "grid_gap": null,
            "max_width": null,
            "order": null,
            "_view_module_version": "1.2.0",
            "grid_template_areas": null,
            "object_position": null,
            "object_fit": null,
            "grid_auto_columns": null,
            "margin": null,
            "display": null,
            "left": null
          }
        },
        "39f0857e245a4b3b84c5cfcb9452ce0d": {
          "model_module": "@jupyter-widgets/controls",
          "model_name": "HBoxModel",
          "state": {
            "_view_name": "HBoxView",
            "_dom_classes": [],
            "_model_name": "HBoxModel",
            "_view_module": "@jupyter-widgets/controls",
            "_model_module_version": "1.5.0",
            "_view_count": null,
            "_view_module_version": "1.5.0",
            "box_style": "",
            "layout": "IPY_MODEL_8e92eead60c94684a0ff83848d83f067",
            "_model_module": "@jupyter-widgets/controls",
            "children": [
              "IPY_MODEL_9814a88a3f5844dd99d10c0e96401262",
              "IPY_MODEL_32a56d17f62f4b8a800fcb588219a6e3"
            ]
          }
        },
        "8e92eead60c94684a0ff83848d83f067": {
          "model_module": "@jupyter-widgets/base",
          "model_name": "LayoutModel",
          "state": {
            "_view_name": "LayoutView",
            "grid_template_rows": null,
            "right": null,
            "justify_content": null,
            "_view_module": "@jupyter-widgets/base",
            "overflow": null,
            "_model_module_version": "1.2.0",
            "_view_count": null,
            "flex_flow": null,
            "width": null,
            "min_width": null,
            "border": null,
            "align_items": null,
            "bottom": null,
            "_model_module": "@jupyter-widgets/base",
            "top": null,
            "grid_column": null,
            "overflow_y": null,
            "overflow_x": null,
            "grid_auto_flow": null,
            "grid_area": null,
            "grid_template_columns": null,
            "flex": null,
            "_model_name": "LayoutModel",
            "justify_items": null,
            "grid_row": null,
            "max_height": null,
            "align_content": null,
            "visibility": null,
            "align_self": null,
            "height": null,
            "min_height": null,
            "padding": null,
            "grid_auto_rows": null,
            "grid_gap": null,
            "max_width": null,
            "order": null,
            "_view_module_version": "1.2.0",
            "grid_template_areas": null,
            "object_position": null,
            "object_fit": null,
            "grid_auto_columns": null,
            "margin": null,
            "display": null,
            "left": null
          }
        },
        "9814a88a3f5844dd99d10c0e96401262": {
          "model_module": "@jupyter-widgets/controls",
          "model_name": "FloatProgressModel",
          "state": {
            "_view_name": "ProgressView",
            "style": "IPY_MODEL_d877a57732824eb3bcedaa358828daf7",
            "_dom_classes": [],
            "description": "100%",
            "_model_name": "FloatProgressModel",
            "bar_style": "success",
            "max": 800,
            "_view_module": "@jupyter-widgets/controls",
            "_model_module_version": "1.5.0",
            "value": 800,
            "_view_count": null,
            "_view_module_version": "1.5.0",
            "orientation": "horizontal",
            "min": 0,
            "description_tooltip": null,
            "_model_module": "@jupyter-widgets/controls",
            "layout": "IPY_MODEL_c82c7a16ef78472ca06f0e4cec770890"
          }
        },
        "32a56d17f62f4b8a800fcb588219a6e3": {
          "model_module": "@jupyter-widgets/controls",
          "model_name": "HTMLModel",
          "state": {
            "_view_name": "HTMLView",
            "style": "IPY_MODEL_4617986d17ac4d9aafdfbaa43a647bce",
            "_dom_classes": [],
            "description": "",
            "_model_name": "HTMLModel",
            "placeholder": "​",
            "_view_module": "@jupyter-widgets/controls",
            "_model_module_version": "1.5.0",
            "value": " 800/800 [45:57&lt;00:00,  3.45s/it]",
            "_view_count": null,
            "_view_module_version": "1.5.0",
            "description_tooltip": null,
            "_model_module": "@jupyter-widgets/controls",
            "layout": "IPY_MODEL_a3c85d9cf20f454cba142e3399a1d63a"
          }
        },
        "d877a57732824eb3bcedaa358828daf7": {
          "model_module": "@jupyter-widgets/controls",
          "model_name": "ProgressStyleModel",
          "state": {
            "_view_name": "StyleView",
            "_model_name": "ProgressStyleModel",
            "description_width": "initial",
            "_view_module": "@jupyter-widgets/base",
            "_model_module_version": "1.5.0",
            "_view_count": null,
            "_view_module_version": "1.2.0",
            "bar_color": null,
            "_model_module": "@jupyter-widgets/controls"
          }
        },
        "c82c7a16ef78472ca06f0e4cec770890": {
          "model_module": "@jupyter-widgets/base",
          "model_name": "LayoutModel",
          "state": {
            "_view_name": "LayoutView",
            "grid_template_rows": null,
            "right": null,
            "justify_content": null,
            "_view_module": "@jupyter-widgets/base",
            "overflow": null,
            "_model_module_version": "1.2.0",
            "_view_count": null,
            "flex_flow": null,
            "width": null,
            "min_width": null,
            "border": null,
            "align_items": null,
            "bottom": null,
            "_model_module": "@jupyter-widgets/base",
            "top": null,
            "grid_column": null,
            "overflow_y": null,
            "overflow_x": null,
            "grid_auto_flow": null,
            "grid_area": null,
            "grid_template_columns": null,
            "flex": null,
            "_model_name": "LayoutModel",
            "justify_items": null,
            "grid_row": null,
            "max_height": null,
            "align_content": null,
            "visibility": null,
            "align_self": null,
            "height": null,
            "min_height": null,
            "padding": null,
            "grid_auto_rows": null,
            "grid_gap": null,
            "max_width": null,
            "order": null,
            "_view_module_version": "1.2.0",
            "grid_template_areas": null,
            "object_position": null,
            "object_fit": null,
            "grid_auto_columns": null,
            "margin": null,
            "display": null,
            "left": null
          }
        },
        "4617986d17ac4d9aafdfbaa43a647bce": {
          "model_module": "@jupyter-widgets/controls",
          "model_name": "DescriptionStyleModel",
          "state": {
            "_view_name": "StyleView",
            "_model_name": "DescriptionStyleModel",
            "description_width": "",
            "_view_module": "@jupyter-widgets/base",
            "_model_module_version": "1.5.0",
            "_view_count": null,
            "_view_module_version": "1.2.0",
            "_model_module": "@jupyter-widgets/controls"
          }
        },
        "a3c85d9cf20f454cba142e3399a1d63a": {
          "model_module": "@jupyter-widgets/base",
          "model_name": "LayoutModel",
          "state": {
            "_view_name": "LayoutView",
            "grid_template_rows": null,
            "right": null,
            "justify_content": null,
            "_view_module": "@jupyter-widgets/base",
            "overflow": null,
            "_model_module_version": "1.2.0",
            "_view_count": null,
            "flex_flow": null,
            "width": null,
            "min_width": null,
            "border": null,
            "align_items": null,
            "bottom": null,
            "_model_module": "@jupyter-widgets/base",
            "top": null,
            "grid_column": null,
            "overflow_y": null,
            "overflow_x": null,
            "grid_auto_flow": null,
            "grid_area": null,
            "grid_template_columns": null,
            "flex": null,
            "_model_name": "LayoutModel",
            "justify_items": null,
            "grid_row": null,
            "max_height": null,
            "align_content": null,
            "visibility": null,
            "align_self": null,
            "height": null,
            "min_height": null,
            "padding": null,
            "grid_auto_rows": null,
            "grid_gap": null,
            "max_width": null,
            "order": null,
            "_view_module_version": "1.2.0",
            "grid_template_areas": null,
            "object_position": null,
            "object_fit": null,
            "grid_auto_columns": null,
            "margin": null,
            "display": null,
            "left": null
          }
        }
      }
    }
  },
  "cells": [
    {
      "cell_type": "markdown",
      "metadata": {
        "id": "view-in-github",
        "colab_type": "text"
      },
      "source": [
        "<a href=\"https://colab.research.google.com/github/KalinaXL/Music-classification/blob/master/Music_CNN.ipynb\" target=\"_parent\"><img src=\"https://colab.research.google.com/assets/colab-badge.svg\" alt=\"Open In Colab\"/></a>"
      ]
    },
    {
      "cell_type": "code",
      "metadata": {
        "id": "FWDxYsQlPopM",
        "colab_type": "code",
        "colab": {
          "base_uri": "https://localhost:8080/",
          "height": 122
        },
        "outputId": "b42198cd-538f-4f1b-a910-bce653e4e4da"
      },
      "source": [
        "from google.colab import drive\n",
        "drive.mount('/content/drive')"
      ],
      "execution_count": 1,
      "outputs": [
        {
          "output_type": "stream",
          "text": [
            "Go to this URL in a browser: https://accounts.google.com/o/oauth2/auth?client_id=947318989803-6bn6qk8qdgf4n4g3pfee6491hc0brc4i.apps.googleusercontent.com&redirect_uri=urn%3aietf%3awg%3aoauth%3a2.0%3aoob&scope=email%20https%3a%2f%2fwww.googleapis.com%2fauth%2fdocs.test%20https%3a%2f%2fwww.googleapis.com%2fauth%2fdrive%20https%3a%2f%2fwww.googleapis.com%2fauth%2fdrive.photos.readonly%20https%3a%2f%2fwww.googleapis.com%2fauth%2fpeopleapi.readonly&response_type=code\n",
            "\n",
            "Enter your authorization code:\n",
            "··········\n",
            "Mounted at /content/drive\n"
          ],
          "name": "stdout"
        }
      ]
    },
    {
      "cell_type": "code",
      "metadata": {
        "id": "o1Cv-R6yPvsW",
        "colab_type": "code",
        "colab": {
          "base_uri": "https://localhost:8080/",
          "height": 34
        },
        "outputId": "e15ddf5d-72c5-4013-96cc-3da3fc9a8f60"
      },
      "source": [
        "%cd '/content/drive/My Drive/Colab Notebooks/Music'"
      ],
      "execution_count": 2,
      "outputs": [
        {
          "output_type": "stream",
          "text": [
            "/content/drive/My Drive/Colab Notebooks/Music\n"
          ],
          "name": "stdout"
        }
      ]
    },
    {
      "cell_type": "code",
      "metadata": {
        "id": "TXlUddxiP2du",
        "colab_type": "code",
        "colab": {}
      },
      "source": [
        "import numpy as np\n",
        "import librosa\n",
        "import librosa.display\n",
        "import matplotlib.pyplot as plt\n",
        "from sklearn.preprocessing import LabelEncoder\n",
        "from sklearn.preprocessing import StandardScaler\n",
        "from sklearn.model_selection import train_test_split\n",
        "import seaborn as sns\n",
        "import glob\n",
        "import os\n",
        "from collections import Counter\n",
        "import tensorflow as tf\n",
        "from tensorflow.keras import Sequential, Model\n",
        "from tensorflow.keras.layers import Input, Dense, Activation, Softmax, BatchNormalization, Add, Conv2D, Dropout, GlobalAveragePooling2D, concatenate\n",
        "from tensorflow.keras.optimizers import Adam, RMSprop\n",
        "from tensorflow.keras.callbacks import ReduceLROnPlateau\n",
        "from tensorflow.keras.callbacks import EarlyStopping\n",
        "from tensorflow.keras.callbacks import ModelCheckpoint\n",
        "from tensorflow.keras.utils import Sequence, to_categorical\n",
        "from tensorflow.keras.preprocessing.image import ImageDataGenerator\n",
        "import pickle\n",
        "import cv2 as cv\n",
        "from keras.utils import plot_model\n",
        "from tqdm.notebook import tqdm\n",
        "import warnings\n",
        "warnings.filterwarnings('ignore')"
      ],
      "execution_count": 116,
      "outputs": []
    },
    {
      "cell_type": "code",
      "metadata": {
        "id": "iqQuxKvYP4jJ",
        "colab_type": "code",
        "colab": {}
      },
      "source": [
        "TRAIN_PATHS = glob.glob(os.path.join(\"Dataset\", \"genres\", \"*\", \"*.wav\")) + glob.glob(os.path.join(\"Dataset\", \"rock\", \"*\", \"*.wav\"))"
      ],
      "execution_count": 4,
      "outputs": []
    },
    {
      "cell_type": "code",
      "metadata": {
        "id": "TANEZ9nuQHVK",
        "colab_type": "code",
        "colab": {}
      },
      "source": [
        "LABELS = [path.split(os.sep)[-2] for path in TRAIN_PATHS]\n",
        "le = LabelEncoder()\n",
        "ENCODED_LABEL = le.fit_transform(LABELS)"
      ],
      "execution_count": 5,
      "outputs": []
    },
    {
      "cell_type": "code",
      "metadata": {
        "id": "wKIGIM3aZGXJ",
        "colab_type": "code",
        "colab": {}
      },
      "source": [
        "TRAIN_PATHS, TEST_PATHS, TRAIN_LABEL, TEST_LABEL = train_test_split(TRAIN_PATHS, ENCODED_LABEL, test_size = .2)"
      ],
      "execution_count": 6,
      "outputs": []
    },
    {
      "cell_type": "markdown",
      "metadata": {
        "id": "54k2qI-4oLVV",
        "colab_type": "text"
      },
      "source": [
        "## Experiment 1\n",
        "  * only use spectrogram extracted from audio. Make it as input to CNN network. I build a simple CNN.\n",
        "  * Result: gain high accuracy > 95%\n"
      ]
    },
    {
      "cell_type": "code",
      "metadata": {
        "id": "LiArUKDrQHtj",
        "colab_type": "code",
        "colab": {}
      },
      "source": [
        "def get_featuress_with_librosa(path):\n",
        "  signal, sr = librosa.load(path)\n",
        "  melspec = librosa.feature.melspectrogram(signal, sr = sr)\n",
        "  logmel = librosa.core.power_to_db(melspec).astype(np.float32)\n",
        "  delta = librosa.feature.delta(melspec).astype(np.float32)\n",
        "  accelerate = librosa.feature.delta(melspec, order = 2).astype(np.float32)\n",
        "  feature = np.dstack((logmel, delta, accelerate))\n",
        "  return feature\n",
        "def convert_to_feature(path, label):\n",
        "  [feature, ] = tf.py_function(get_featuress_with_librosa, [path], [tf.string])\n",
        "  return feature, label"
      ],
      "execution_count": 7,
      "outputs": []
    },
    {
      "cell_type": "code",
      "metadata": {
        "id": "Jn4nXpr1wtL2",
        "colab_type": "code",
        "colab": {}
      },
      "source": [
        "def _bytes_feature(value):\n",
        "  return tf.train.Feature(bytes_list = tf.train.BytesList(value = [value]))\n",
        "def _int64_feature(value):\n",
        "  return tf.train.Feature(int64_list = tf.train.Int64List(value = [value]))"
      ],
      "execution_count": null,
      "outputs": []
    },
    {
      "cell_type": "code",
      "metadata": {
        "id": "9csklES-vVKL",
        "colab_type": "code",
        "colab": {
          "base_uri": "https://localhost:8080/",
          "height": 66,
          "referenced_widgets": [
            "541d4ab40d084372a3175dc8e99f65ff",
            "3cd0f84bc6e24059ab7a33158bc8046f",
            "e4198a985c37443c877d593a20263da7",
            "5a6d33a1f5504d1998be9e3c396c73d5",
            "9b4c7d32c6134c1aa5d656c120f9a40e",
            "d52ec80193054482ac300988623faf4a",
            "852d05d372b6491d89561c845ab1c7f3",
            "ac01c0207ee14f89a1fc06b8325759a7"
          ]
        },
        "outputId": "f4bb0a4f-9c6b-4e09-86e6-fa604f852c4a"
      },
      "source": [
        "features = [get_featuress_with_librosa(path) for path in tqdm(TRAIN_PATHS, total = len(TRAIN_PATHS))]"
      ],
      "execution_count": 17,
      "outputs": [
        {
          "output_type": "display_data",
          "data": {
            "application/vnd.jupyter.widget-view+json": {
              "model_id": "541d4ab40d084372a3175dc8e99f65ff",
              "version_minor": 0,
              "version_major": 2
            },
            "text/plain": [
              "HBox(children=(FloatProgress(value=0.0, max=800.0), HTML(value='')))"
            ]
          },
          "metadata": {
            "tags": []
          }
        },
        {
          "output_type": "stream",
          "text": [
            "\n"
          ],
          "name": "stdout"
        }
      ]
    },
    {
      "cell_type": "code",
      "metadata": {
        "id": "PHrtCRcb1nZz",
        "colab_type": "code",
        "colab": {}
      },
      "source": [
        "height = np.array([f.shape[0] for f in features]).mean().astype(np.int32)\n",
        "width = np.array([f.shape[1] for f in features]).mean().astype(np.int32)"
      ],
      "execution_count": 11,
      "outputs": []
    },
    {
      "cell_type": "code",
      "metadata": {
        "id": "ajKeFVWG11pm",
        "colab_type": "code",
        "colab": {
          "base_uri": "https://localhost:8080/",
          "height": 34
        },
        "outputId": "012a13fc-4077-447b-c423-771e9dee5d4c"
      },
      "source": [
        "height, width"
      ],
      "execution_count": 13,
      "outputs": [
        {
          "output_type": "execute_result",
          "data": {
            "text/plain": [
              "(128, 1293)"
            ]
          },
          "metadata": {
            "tags": []
          },
          "execution_count": 13
        }
      ]
    },
    {
      "cell_type": "code",
      "metadata": {
        "id": "n4EOWGSZ3Xpe",
        "colab_type": "code",
        "colab": {
          "base_uri": "https://localhost:8080/",
          "height": 66,
          "referenced_widgets": [
            "326b2350fbd147aa9cd08fd0b7ef22fd",
            "526fddffd43a46f78030cdaec41096c3",
            "49fafeab1b6f4ed8b74a569152480014",
            "d2c6bedc512a41d2aeaf03d8710b4913",
            "2f453cfb3dcb427cbadc1b6963fa4938",
            "4d16560d278b4753ba1409ab0c5a227c",
            "2f672c2ba2b8471ea886c89bd11d81ea",
            "66cc7ff9bdda46968bcaa9ff110ace9e"
          ]
        },
        "outputId": "fc7a657e-1711-4b53-cdd1-0aa28fb9c0ad"
      },
      "source": [
        "features = [cv.resize(f, (width, height)) for f in tqdm(features, total = len(TRAIN_PATHS))]"
      ],
      "execution_count": 20,
      "outputs": [
        {
          "output_type": "display_data",
          "data": {
            "application/vnd.jupyter.widget-view+json": {
              "model_id": "326b2350fbd147aa9cd08fd0b7ef22fd",
              "version_minor": 0,
              "version_major": 2
            },
            "text/plain": [
              "HBox(children=(FloatProgress(value=0.0, max=800.0), HTML(value='')))"
            ]
          },
          "metadata": {
            "tags": []
          }
        },
        {
          "output_type": "stream",
          "text": [
            "\n"
          ],
          "name": "stdout"
        }
      ]
    },
    {
      "cell_type": "code",
      "metadata": {
        "id": "WITp2tXC4Z6T",
        "colab_type": "code",
        "colab": {}
      },
      "source": [
        "features = np.array(features)"
      ],
      "execution_count": 21,
      "outputs": []
    },
    {
      "cell_type": "code",
      "metadata": {
        "id": "sx1wHnBC4c8P",
        "colab_type": "code",
        "colab": {}
      },
      "source": [
        "mean = np.mean(features, axis = (0, 1, 2), keepdims = True)"
      ],
      "execution_count": 22,
      "outputs": []
    },
    {
      "cell_type": "code",
      "metadata": {
        "id": "GBNCPJxU5JsQ",
        "colab_type": "code",
        "colab": {}
      },
      "source": [
        "std = np.std(features, axis = (0, 1, 2), keepdims = True)"
      ],
      "execution_count": 23,
      "outputs": []
    },
    {
      "cell_type": "code",
      "metadata": {
        "id": "VLRB1Nrg5XnS",
        "colab_type": "code",
        "colab": {}
      },
      "source": [
        "X_train = (features - mean) / std"
      ],
      "execution_count": 24,
      "outputs": []
    },
    {
      "cell_type": "code",
      "metadata": {
        "id": "xJZUEQiY52FE",
        "colab_type": "code",
        "colab": {}
      },
      "source": [
        "def one_hot(x, y):\n",
        "  y = tf.one_hot(y, depth = 10)\n",
        "  return x, y"
      ],
      "execution_count": 25,
      "outputs": []
    },
    {
      "cell_type": "code",
      "metadata": {
        "id": "iPcu5O5MSy4V",
        "colab_type": "code",
        "colab": {}
      },
      "source": [
        "def conv2d_block(x, out_channels, kernel_size = 3, strides = 1):\n",
        "  x = Conv2D(out_channels, kernel_size = 3, strides = strides)(x)\n",
        "  x = BatchNormalization()(x)\n",
        "  x = Activation('relu')(x)\n",
        "  return x"
      ],
      "execution_count": 48,
      "outputs": []
    },
    {
      "cell_type": "code",
      "metadata": {
        "id": "8RGfkrEARpFE",
        "colab_type": "code",
        "colab": {}
      },
      "source": [
        "x = Input(shape = (height, width, 3))\n",
        "conv_1 = conv2d_block(x, 64, strides = 2)\n",
        "conv_2 = conv2d_block(conv_1, 128, strides = 2)\n",
        "conv_3 = conv2d_block(conv_2, 256, strides = 2)\n",
        "conv_4 = conv2d_block(conv_3, 512, strides = 2)\n",
        "do_1 = Dropout(rate = .2)(conv_4)\n",
        "avg_1 = AveragePooling2D()(do_1)\n",
        "flt = Flatten()(avg_1)\n",
        "output = Dense(units = 10)(flt)\n",
        "output = Softmax()(output)\n",
        "model = Model(inputs = x, outputs = output)"
      ],
      "execution_count": 49,
      "outputs": []
    },
    {
      "cell_type": "code",
      "metadata": {
        "id": "L4TGr7wuTWTT",
        "colab_type": "code",
        "colab": {
          "base_uri": "https://localhost:8080/",
          "height": 765
        },
        "outputId": "5c8e5172-0dfa-484c-ebd8-850d964ef602"
      },
      "source": [
        "model.summary()"
      ],
      "execution_count": 50,
      "outputs": [
        {
          "output_type": "stream",
          "text": [
            "Model: \"functional_1\"\n",
            "_________________________________________________________________\n",
            "Layer (type)                 Output Shape              Param #   \n",
            "=================================================================\n",
            "input_1 (InputLayer)         [(None, 128, 1293, 3)]    0         \n",
            "_________________________________________________________________\n",
            "conv2d (Conv2D)              (None, 63, 646, 64)       1792      \n",
            "_________________________________________________________________\n",
            "batch_normalization (BatchNo (None, 63, 646, 64)       256       \n",
            "_________________________________________________________________\n",
            "activation (Activation)      (None, 63, 646, 64)       0         \n",
            "_________________________________________________________________\n",
            "conv2d_1 (Conv2D)            (None, 31, 322, 128)      73856     \n",
            "_________________________________________________________________\n",
            "batch_normalization_1 (Batch (None, 31, 322, 128)      512       \n",
            "_________________________________________________________________\n",
            "activation_1 (Activation)    (None, 31, 322, 128)      0         \n",
            "_________________________________________________________________\n",
            "conv2d_2 (Conv2D)            (None, 15, 160, 256)      295168    \n",
            "_________________________________________________________________\n",
            "batch_normalization_2 (Batch (None, 15, 160, 256)      1024      \n",
            "_________________________________________________________________\n",
            "activation_2 (Activation)    (None, 15, 160, 256)      0         \n",
            "_________________________________________________________________\n",
            "conv2d_3 (Conv2D)            (None, 7, 79, 512)        1180160   \n",
            "_________________________________________________________________\n",
            "batch_normalization_3 (Batch (None, 7, 79, 512)        2048      \n",
            "_________________________________________________________________\n",
            "activation_3 (Activation)    (None, 7, 79, 512)        0         \n",
            "_________________________________________________________________\n",
            "dropout (Dropout)            (None, 7, 79, 512)        0         \n",
            "_________________________________________________________________\n",
            "average_pooling2d (AveragePo (None, 3, 39, 512)        0         \n",
            "_________________________________________________________________\n",
            "flatten (Flatten)            (None, 59904)             0         \n",
            "_________________________________________________________________\n",
            "dense (Dense)                (None, 10)                599050    \n",
            "_________________________________________________________________\n",
            "softmax (Softmax)            (None, 10)                0         \n",
            "=================================================================\n",
            "Total params: 2,153,866\n",
            "Trainable params: 2,151,946\n",
            "Non-trainable params: 1,920\n",
            "_________________________________________________________________\n"
          ],
          "name": "stdout"
        }
      ]
    },
    {
      "cell_type": "code",
      "metadata": {
        "id": "pVZ6s944VZvW",
        "colab_type": "code",
        "colab": {
          "base_uri": "https://localhost:8080/",
          "height": 1000
        },
        "outputId": "fbce1763-8d4d-4409-a808-14f31b7dbe25"
      },
      "source": [
        "plot_model(model)"
      ],
      "execution_count": 51,
      "outputs": [
        {
          "output_type": "execute_result",
          "data": {
            "image/png": "[encoded data removed]",
            "text/plain": [
              "<IPython.core.display.Image object>"
            ]
          },
          "metadata": {
            "tags": []
          },
          "execution_count": 51
        }
      ]
    },
    {
      "cell_type": "code",
      "metadata": {
        "id": "G9jy1ivlZbxu",
        "colab_type": "code",
        "colab": {}
      },
      "source": [
        "dataset = tf.data.Dataset.from_generator(lambda: ImageDataGenerator().flow(X_train, TRAIN_LABEL, batch_size = 32), (tf.float32, tf.int32), output_shapes = ((32, height, width, 3), (32, ))).map(one_hot, num_parallel_calls = tf.data.experimental.AUTOTUNE)"
      ],
      "execution_count": 64,
      "outputs": []
    },
    {
      "cell_type": "code",
      "metadata": {
        "id": "FI91UlqDjKXT",
        "colab_type": "code",
        "colab": {
          "base_uri": "https://localhost:8080/",
          "height": 102
        },
        "outputId": "7493867a-a9af-498b-c7f4-889a77ad167d"
      },
      "source": [
        "for x, y in dataset.take(5):\n",
        "  print(x.shape, y.shape, y)"
      ],
      "execution_count": 46,
      "outputs": [
        {
          "output_type": "stream",
          "text": [
            "(32, 128, 1293, 3) (32,) tf.Tensor([4 4 2 0 0 4 5 5 4 2 6 7 9 4 8 6 6 3 4 2 1 5 8 7 4 6 7 4 7 7 9 1], shape=(32,), dtype=int32)\n",
            "(32, 128, 1293, 3) (32,) tf.Tensor([0 8 4 7 2 9 9 4 0 3 7 6 0 8 5 0 9 0 9 0 5 9 1 1 5 6 1 0 3 4 7 0], shape=(32,), dtype=int32)\n",
            "(32, 128, 1293, 3) (32,) tf.Tensor([0 9 2 3 5 4 8 3 1 1 8 8 3 7 4 4 7 4 9 8 6 5 7 3 8 4 8 0 5 2 3 7], shape=(32,), dtype=int32)\n",
            "(32, 128, 1293, 3) (32,) tf.Tensor([7 1 2 5 6 5 4 7 2 9 2 3 9 3 5 0 1 0 0 2 1 9 8 0 1 9 0 1 3 5 6 4], shape=(32,), dtype=int32)\n",
            "(32, 128, 1293, 3) (32,) tf.Tensor([3 6 6 6 4 5 5 3 6 3 2 1 8 9 9 4 7 9 2 6 0 2 8 5 2 1 8 7 8 0 4 8], shape=(32,), dtype=int32)\n"
          ],
          "name": "stdout"
        }
      ]
    },
    {
      "cell_type": "code",
      "metadata": {
        "id": "JgVGZ0LzVkSf",
        "colab_type": "code",
        "colab": {}
      },
      "source": [
        "INIT_LR = 1e-3\n",
        "model.compile(optimizer = Adam(learning_rate = 1e-3), loss = 'categorical_crossentropy', metrics = ['accuracy'])"
      ],
      "execution_count": 52,
      "outputs": []
    },
    {
      "cell_type": "code",
      "metadata": {
        "id": "y-gr2kZC7FwN",
        "colab_type": "code",
        "colab": {}
      },
      "source": [
        "dataset = dataset.repeat().prefetch(tf.data.experimental.AUTOTUNE)"
      ],
      "execution_count": 53,
      "outputs": []
    },
    {
      "cell_type": "code",
      "metadata": {
        "id": "DLKbWJdL7Y3W",
        "colab_type": "code",
        "colab": {
          "base_uri": "https://localhost:8080/",
          "height": 731
        },
        "outputId": "a07dcf78-0592-4d57-89be-4afe4d0a66bc"
      },
      "source": [
        "model.fit(dataset, batch_size = 32, epochs = 20, steps_per_epoch = 800 // 32, verbose = 2)"
      ],
      "execution_count": 58,
      "outputs": [
        {
          "output_type": "stream",
          "text": [
            "Epoch 1/20\n",
            "WARNING:tensorflow:Callbacks method `on_train_batch_end` is slow compared to the batch time (batch time: 0.0162s vs `on_train_batch_end` time: 0.3799s). Check your callbacks.\n",
            "25/25 - 10s - loss: 0.5594 - accuracy: 0.8350\n",
            "Epoch 2/20\n",
            "25/25 - 10s - loss: 0.3757 - accuracy: 0.8925\n",
            "Epoch 3/20\n",
            "25/25 - 10s - loss: 0.2190 - accuracy: 0.9375\n",
            "Epoch 4/20\n",
            "25/25 - 10s - loss: 0.3073 - accuracy: 0.9013\n",
            "Epoch 5/20\n",
            "25/25 - 10s - loss: 0.2807 - accuracy: 0.9150\n",
            "Epoch 6/20\n",
            "25/25 - 10s - loss: 0.3372 - accuracy: 0.8963\n",
            "Epoch 7/20\n",
            "25/25 - 10s - loss: 0.3090 - accuracy: 0.9150\n",
            "Epoch 8/20\n",
            "25/25 - 10s - loss: 0.0975 - accuracy: 0.9750\n",
            "Epoch 9/20\n",
            "25/25 - 10s - loss: 0.1499 - accuracy: 0.9688\n",
            "Epoch 10/20\n",
            "25/25 - 10s - loss: 0.0870 - accuracy: 0.9837\n",
            "Epoch 11/20\n",
            "25/25 - 10s - loss: 0.0590 - accuracy: 0.9787\n",
            "Epoch 12/20\n",
            "25/25 - 10s - loss: 0.1103 - accuracy: 0.9663\n",
            "Epoch 13/20\n",
            "25/25 - 10s - loss: 0.0621 - accuracy: 0.9862\n",
            "Epoch 14/20\n",
            "25/25 - 10s - loss: 0.0387 - accuracy: 0.9962\n",
            "Epoch 15/20\n",
            "25/25 - 10s - loss: 0.0189 - accuracy: 0.9962\n",
            "Epoch 16/20\n",
            "25/25 - 10s - loss: 0.0399 - accuracy: 0.9937\n",
            "Epoch 17/20\n",
            "25/25 - 10s - loss: 0.0936 - accuracy: 0.9800\n",
            "Epoch 18/20\n",
            "25/25 - 10s - loss: 0.0938 - accuracy: 0.9800\n",
            "Epoch 19/20\n",
            "25/25 - 10s - loss: 0.2040 - accuracy: 0.9663\n",
            "Epoch 20/20\n",
            "25/25 - 10s - loss: 0.0946 - accuracy: 0.9725\n"
          ],
          "name": "stdout"
        },
        {
          "output_type": "execute_result",
          "data": {
            "text/plain": [
              "<tensorflow.python.keras.callbacks.History at 0x7ff21b9b9a20>"
            ]
          },
          "metadata": {
            "tags": []
          },
          "execution_count": 58
        }
      ]
    },
    {
      "cell_type": "markdown",
      "metadata": {
        "id": "pcCrVTlzorT4",
        "colab_type": "text"
      },
      "source": [
        "## Experiment 2\n",
        "  * I will combine spectrogram and meta data that are extracted from audio. I make it as dual input of a simple CNN network.\n",
        "  * Result: accuracy is far better and more stable than its in experiment 1."
      ]
    },
    {
      "cell_type": "code",
      "metadata": {
        "id": "9mfuhrh5tzRA",
        "colab_type": "code",
        "colab": {}
      },
      "source": [
        "def meta_feature_extraction(path):\n",
        "  signal, sr = librosa.load(path)\n",
        "  return [librosa.feature.chroma_stft(y = signal, sr = sr).mean(),\n",
        "          librosa.feature.spectral_centroid(y = signal, sr = sr).mean(),\n",
        "          librosa.feature.spectral_bandwidth(y = signal, sr = sr).mean(),\n",
        "          librosa.feature.spectral_rolloff(y = signal, sr = sr).mean(),\n",
        "          librosa.feature.zero_crossing_rate(y = signal).mean(),\n",
        "          librosa.feature.mfcc(y = signal, sr = sr).mean()\n",
        "          ]"
      ],
      "execution_count": 72,
      "outputs": []
    },
    {
      "cell_type": "code",
      "metadata": {
        "id": "MEmjYklOt43L",
        "colab_type": "code",
        "colab": {
          "base_uri": "https://localhost:8080/",
          "height": 66,
          "referenced_widgets": [
            "39f0857e245a4b3b84c5cfcb9452ce0d",
            "8e92eead60c94684a0ff83848d83f067",
            "9814a88a3f5844dd99d10c0e96401262",
            "32a56d17f62f4b8a800fcb588219a6e3",
            "d877a57732824eb3bcedaa358828daf7",
            "c82c7a16ef78472ca06f0e4cec770890",
            "4617986d17ac4d9aafdfbaa43a647bce",
            "a3c85d9cf20f454cba142e3399a1d63a"
          ]
        },
        "outputId": "6759d5e8-7bca-4f1c-e54f-f07c903220d2"
      },
      "source": [
        "meta_features = np.array([meta_feature_extraction(path) for path in tqdm(TRAIN_PATHS, total = len(TRAIN_PATHS))])"
      ],
      "execution_count": 75,
      "outputs": [
        {
          "output_type": "display_data",
          "data": {
            "application/vnd.jupyter.widget-view+json": {
              "model_id": "39f0857e245a4b3b84c5cfcb9452ce0d",
              "version_minor": 0,
              "version_major": 2
            },
            "text/plain": [
              "HBox(children=(FloatProgress(value=0.0, max=800.0), HTML(value='')))"
            ]
          },
          "metadata": {
            "tags": []
          }
        },
        {
          "output_type": "stream",
          "text": [
            "\n"
          ],
          "name": "stdout"
        }
      ]
    },
    {
      "cell_type": "code",
      "metadata": {
        "id": "vcf3OgrW2ufd",
        "colab_type": "code",
        "colab": {}
      },
      "source": [
        "sc_meta = StandardScaler()\n",
        "meta_features = sc_meta.fit_transform(meta_features)"
      ],
      "execution_count": 92,
      "outputs": []
    },
    {
      "cell_type": "code",
      "metadata": {
        "id": "X1SZ67f9t-16",
        "colab_type": "code",
        "colab": {}
      },
      "source": [
        "class DataGenerator(Sequence):\n",
        "  def __init__(self, img_data, meta_data, labels, batch_size = 32):\n",
        "    self.img_data = img_data\n",
        "    self.meta_data = meta_data\n",
        "    self.labels = labels\n",
        "    self.batch_size = batch_size\n",
        "  def __len__(self):\n",
        "    return self.img_data.shape[0] // self.batch_size\n",
        "  def __getitem__(self, index):\n",
        "    batch_img = self.img_data[index * self.batch_size : (index + 1) * self.batch_size]\n",
        "    batch_meta = self.meta_data[index * self.batch_size : (index + 1) * self.batch_size]\n",
        "    batch_label = self.labels[index * self.batch_size : (index + 1) * self.batch_size]\n",
        "    return [batch_img, batch_meta], batch_label"
      ],
      "execution_count": 120,
      "outputs": []
    },
    {
      "cell_type": "code",
      "metadata": {
        "id": "oFEkt-mdwwOa",
        "colab_type": "code",
        "colab": {}
      },
      "source": [
        "def one_hot(img, meta, label):\n",
        "  return img, meta, tf.one_hot(label, depth = 10)"
      ],
      "execution_count": 103,
      "outputs": []
    },
    {
      "cell_type": "code",
      "metadata": {
        "id": "tDnd6-X_5_X3",
        "colab_type": "code",
        "colab": {
          "base_uri": "https://localhost:8080/",
          "height": 34
        },
        "outputId": "bd454a6c-40d6-492f-ad02-62b5a0a8c276"
      },
      "source": [
        "for (a, b), c in DataGenerator(X_train, meta_features, TRAIN_LABEL):\n",
        "  print(c)\n",
        "  break"
      ],
      "execution_count": 108,
      "outputs": [
        {
          "output_type": "stream",
          "text": [
            "[0 6 0 3 2 5 7 8 7 0 5 6 8 6 0 9 6 9 4 6 7 9 6 1 7 1 5 4 2 7 3 4]\n"
          ],
          "name": "stdout"
        }
      ]
    },
    {
      "cell_type": "code",
      "metadata": {
        "id": "KC_y_-Yrx-gu",
        "colab_type": "code",
        "colab": {}
      },
      "source": [
        "inp1 = Input(shape = (height, width, 3))\n",
        "conv_1 = conv2d_block(inp1, 64, strides = 2)\n",
        "conv_2 = conv2d_block(conv_1, 128, strides = 2)\n",
        "conv_3 = conv2d_block(conv_2, 256, strides = 2)\n",
        "conv_4 = conv2d_block(conv_3, 512, strides = 2)\n",
        "\n",
        "inp2 = Input(shape = (6, ))\n",
        "dense_2 = Dense(units = 512)(inp2)\n",
        "bn_2 = BatchNormalization()(dense_2)\n",
        "act_2 = Activation('relu')(bn_2)\n",
        "do_2 = Dropout(rate = .2)(act_2)\n",
        "\n",
        "do_1 = Dropout(rate = .2)(conv_4)\n",
        "avg_1 = GlobalAveragePooling2D()(do_1)\n",
        "\n",
        "concat = concatenate([avg_1, do_2])\n",
        "output = Dense(units = 10)(concat)\n",
        "output = Softmax()(output)\n",
        "model = Model(inputs = [inp1, inp2], outputs = output)"
      ],
      "execution_count": 124,
      "outputs": []
    },
    {
      "cell_type": "code",
      "metadata": {
        "id": "ZOZflYSZ1k0C",
        "colab_type": "code",
        "colab": {
          "base_uri": "https://localhost:8080/",
          "height": 952
        },
        "outputId": "18dac20d-d6f5-47be-8fb7-530b59958971"
      },
      "source": [
        "model.summary()"
      ],
      "execution_count": 125,
      "outputs": [
        {
          "output_type": "stream",
          "text": [
            "Model: \"functional_16\"\n",
            "__________________________________________________________________________________________________\n",
            "Layer (type)                    Output Shape         Param #     Connected to                     \n",
            "==================================================================================================\n",
            "input_22 (InputLayer)           [(None, 128, 1293, 3 0                                            \n",
            "__________________________________________________________________________________________________\n",
            "conv2d_44 (Conv2D)              (None, 63, 646, 64)  1792        input_22[0][0]                   \n",
            "__________________________________________________________________________________________________\n",
            "batch_normalization_54 (BatchNo (None, 63, 646, 64)  256         conv2d_44[0][0]                  \n",
            "__________________________________________________________________________________________________\n",
            "activation_54 (Activation)      (None, 63, 646, 64)  0           batch_normalization_54[0][0]     \n",
            "__________________________________________________________________________________________________\n",
            "conv2d_45 (Conv2D)              (None, 31, 322, 128) 73856       activation_54[0][0]              \n",
            "__________________________________________________________________________________________________\n",
            "batch_normalization_55 (BatchNo (None, 31, 322, 128) 512         conv2d_45[0][0]                  \n",
            "__________________________________________________________________________________________________\n",
            "activation_55 (Activation)      (None, 31, 322, 128) 0           batch_normalization_55[0][0]     \n",
            "__________________________________________________________________________________________________\n",
            "conv2d_46 (Conv2D)              (None, 15, 160, 256) 295168      activation_55[0][0]              \n",
            "__________________________________________________________________________________________________\n",
            "batch_normalization_56 (BatchNo (None, 15, 160, 256) 1024        conv2d_46[0][0]                  \n",
            "__________________________________________________________________________________________________\n",
            "activation_56 (Activation)      (None, 15, 160, 256) 0           batch_normalization_56[0][0]     \n",
            "__________________________________________________________________________________________________\n",
            "conv2d_47 (Conv2D)              (None, 7, 79, 512)   1180160     activation_56[0][0]              \n",
            "__________________________________________________________________________________________________\n",
            "input_23 (InputLayer)           [(None, 6)]          0                                            \n",
            "__________________________________________________________________________________________________\n",
            "batch_normalization_57 (BatchNo (None, 7, 79, 512)   2048        conv2d_47[0][0]                  \n",
            "__________________________________________________________________________________________________\n",
            "dense_19 (Dense)                (None, 512)          3584        input_23[0][0]                   \n",
            "__________________________________________________________________________________________________\n",
            "activation_57 (Activation)      (None, 7, 79, 512)   0           batch_normalization_57[0][0]     \n",
            "__________________________________________________________________________________________________\n",
            "batch_normalization_58 (BatchNo (None, 512)          2048        dense_19[0][0]                   \n",
            "__________________________________________________________________________________________________\n",
            "dropout_12 (Dropout)            (None, 7, 79, 512)   0           activation_57[0][0]              \n",
            "__________________________________________________________________________________________________\n",
            "activation_58 (Activation)      (None, 512)          0           batch_normalization_58[0][0]     \n",
            "__________________________________________________________________________________________________\n",
            "global_average_pooling2d_10 (Gl (None, 512)          0           dropout_12[0][0]                 \n",
            "__________________________________________________________________________________________________\n",
            "dropout_11 (Dropout)            (None, 512)          0           activation_58[0][0]              \n",
            "__________________________________________________________________________________________________\n",
            "concatenate_4 (Concatenate)     (None, 1024)         0           global_average_pooling2d_10[0][0]\n",
            "                                                                 dropout_11[0][0]                 \n",
            "__________________________________________________________________________________________________\n",
            "dense_20 (Dense)                (None, 10)           10250       concatenate_4[0][0]              \n",
            "__________________________________________________________________________________________________\n",
            "softmax_9 (Softmax)             (None, 10)           0           dense_20[0][0]                   \n",
            "==================================================================================================\n",
            "Total params: 1,570,698\n",
            "Trainable params: 1,567,754\n",
            "Non-trainable params: 2,944\n",
            "__________________________________________________________________________________________________\n"
          ],
          "name": "stdout"
        }
      ]
    },
    {
      "cell_type": "code",
      "metadata": {
        "id": "pCe-G0c21tnL",
        "colab_type": "code",
        "colab": {
          "base_uri": "https://localhost:8080/",
          "height": 1000
        },
        "outputId": "a42b8b26-411b-4107-9333-18959507d58f"
      },
      "source": [
        "plot_model(model)"
      ],
      "execution_count": 126,
      "outputs": [
        {
          "output_type": "execute_result",
          "data": {
            "image/png": "[encoded data removed]",
            "text/plain": [
              "<IPython.core.display.Image object>"
            ]
          },
          "metadata": {
            "tags": []
          },
          "execution_count": 126
        }
      ]
    },
    {
      "cell_type": "code",
      "metadata": {
        "id": "cScooHg98RDD",
        "colab_type": "code",
        "colab": {}
      },
      "source": [
        "ONEHOT_TRAIN_LABELS = to_categorical(TRAIN_LABEL, num_classes = 10)"
      ],
      "execution_count": 118,
      "outputs": []
    },
    {
      "cell_type": "code",
      "metadata": {
        "id": "gtQN4qGt2luX",
        "colab_type": "code",
        "colab": {
          "base_uri": "https://localhost:8080/",
          "height": 901
        },
        "outputId": "0d3d7e61-a7fd-454d-b95c-a39fa8e42964"
      },
      "source": [
        "model.compile(optimizer = Adam(learning_rate = INIT_LR), loss = 'categorical_crossentropy', metrics = ['accuracy'])\n",
        "model.fit_generator(DataGenerator(X_train, meta_features, ONEHOT_TRAIN_LABELS), epochs = 25, verbose = 2, steps_per_epoch = len(TRAIN_LABEL) // 32)"
      ],
      "execution_count": 127,
      "outputs": [
        {
          "output_type": "stream",
          "text": [
            "Epoch 1/25\n",
            "WARNING:tensorflow:Callbacks method `on_train_batch_end` is slow compared to the batch time (batch time: 0.1553s vs `on_train_batch_end` time: 0.2502s). Check your callbacks.\n",
            "25/25 - 10s - loss: 1.7339 - accuracy: 0.3850\n",
            "Epoch 2/25\n",
            "25/25 - 10s - loss: 1.3242 - accuracy: 0.5050\n",
            "Epoch 3/25\n",
            "25/25 - 10s - loss: 1.1133 - accuracy: 0.6037\n",
            "Epoch 4/25\n",
            "25/25 - 10s - loss: 1.0718 - accuracy: 0.6100\n",
            "Epoch 5/25\n",
            "25/25 - 10s - loss: 0.9241 - accuracy: 0.6875\n",
            "Epoch 6/25\n",
            "25/25 - 10s - loss: 0.8370 - accuracy: 0.7138\n",
            "Epoch 7/25\n",
            "25/25 - 10s - loss: 0.7272 - accuracy: 0.7513\n",
            "Epoch 8/25\n",
            "25/25 - 10s - loss: 0.6388 - accuracy: 0.7975\n",
            "Epoch 9/25\n",
            "25/25 - 10s - loss: 0.5645 - accuracy: 0.8288\n",
            "Epoch 10/25\n",
            "25/25 - 10s - loss: 0.5190 - accuracy: 0.8300\n",
            "Epoch 11/25\n",
            "25/25 - 10s - loss: 0.4720 - accuracy: 0.8550\n",
            "Epoch 12/25\n",
            "25/25 - 10s - loss: 0.4209 - accuracy: 0.8838\n",
            "Epoch 13/25\n",
            "25/25 - 10s - loss: 0.3671 - accuracy: 0.9013\n",
            "Epoch 14/25\n",
            "25/25 - 10s - loss: 0.3332 - accuracy: 0.9125\n",
            "Epoch 15/25\n",
            "25/25 - 10s - loss: 0.3129 - accuracy: 0.9187\n",
            "Epoch 16/25\n",
            "25/25 - 10s - loss: 0.2449 - accuracy: 0.9388\n",
            "Epoch 17/25\n",
            "25/25 - 10s - loss: 0.2358 - accuracy: 0.9488\n",
            "Epoch 18/25\n",
            "25/25 - 10s - loss: 0.2281 - accuracy: 0.9550\n",
            "Epoch 19/25\n",
            "25/25 - 10s - loss: 0.1527 - accuracy: 0.9750\n",
            "Epoch 20/25\n",
            "25/25 - 10s - loss: 0.1501 - accuracy: 0.9712\n",
            "Epoch 21/25\n",
            "25/25 - 10s - loss: 0.1151 - accuracy: 0.9862\n",
            "Epoch 22/25\n",
            "25/25 - 10s - loss: 0.1075 - accuracy: 0.9875\n",
            "Epoch 23/25\n",
            "25/25 - 10s - loss: 0.0919 - accuracy: 0.9875\n",
            "Epoch 24/25\n",
            "25/25 - 10s - loss: 0.0822 - accuracy: 0.9862\n",
            "Epoch 25/25\n",
            "25/25 - 10s - loss: 0.0606 - accuracy: 0.9962\n"
          ],
          "name": "stdout"
        },
        {
          "output_type": "execute_result",
          "data": {
            "text/plain": [
              "<tensorflow.python.keras.callbacks.History at 0x7ff21d558048>"
            ]
          },
          "metadata": {
            "tags": []
          },
          "execution_count": 127
        }
      ]
    },
    {
      "cell_type": "code",
      "metadata": {
        "id": "LQUzrdNl9IW6",
        "colab_type": "code",
        "colab": {}
      },
      "source": [
        ""
      ],
      "execution_count": null,
      "outputs": []
    }
  ]
}